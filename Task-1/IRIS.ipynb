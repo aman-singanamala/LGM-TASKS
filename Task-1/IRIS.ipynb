{
 "cells": [
  {
   "cell_type": "markdown",
   "id": "84ff6e90",
   "metadata": {},
   "source": [
    "### Libraries"
   ]
  },
  {
   "cell_type": "code",
   "execution_count": 1,
   "id": "c9b763ec",
   "metadata": {
    "ExecuteTime": {
     "end_time": "2022-06-15T01:54:22.187426Z",
     "start_time": "2022-06-15T01:54:22.172325Z"
    }
   },
   "outputs": [],
   "source": [
    "import numpy as np\n",
    "import pandas as pd\n",
    "import matplotlib.pyplot as plt\n",
    "import seaborn as sns\n",
    "\n",
    "\n",
    "from sklearn.model_selection import train_test_split\n",
    "from sklearn.svm import SVC\n",
    "from sklearn.ensemble import RandomForestClassifier\n",
    "from sklearn.tree import DecisionTreeClassifier\n",
    "from sklearn.neighbors import KNeighborsClassifier  \n",
    "from sklearn.metrics import accuracy_score"
   ]
  },
  {
   "cell_type": "markdown",
   "id": "b09e8ad9",
   "metadata": {},
   "source": [
    "### Read the Data"
   ]
  },
  {
   "cell_type": "code",
   "execution_count": 2,
   "id": "f0233a73",
   "metadata": {
    "ExecuteTime": {
     "end_time": "2022-06-15T01:54:49.047287Z",
     "start_time": "2022-06-15T01:54:48.992758Z"
    }
   },
   "outputs": [
    {
     "data": {
      "text/html": [
       "<div>\n",
       "<style scoped>\n",
       "    .dataframe tbody tr th:only-of-type {\n",
       "        vertical-align: middle;\n",
       "    }\n",
       "\n",
       "    .dataframe tbody tr th {\n",
       "        vertical-align: top;\n",
       "    }\n",
       "\n",
       "    .dataframe thead th {\n",
       "        text-align: right;\n",
       "    }\n",
       "</style>\n",
       "<table border=\"1\" class=\"dataframe\">\n",
       "  <thead>\n",
       "    <tr style=\"text-align: right;\">\n",
       "      <th></th>\n",
       "      <th>Unnamed: 0</th>\n",
       "      <th>Sepal.Length</th>\n",
       "      <th>Sepal.Width</th>\n",
       "      <th>Petal.Length</th>\n",
       "      <th>Petal.Width</th>\n",
       "      <th>Species</th>\n",
       "    </tr>\n",
       "  </thead>\n",
       "  <tbody>\n",
       "    <tr>\n",
       "      <th>0</th>\n",
       "      <td>1</td>\n",
       "      <td>5.1</td>\n",
       "      <td>3.5</td>\n",
       "      <td>1.4</td>\n",
       "      <td>0.2</td>\n",
       "      <td>setosa</td>\n",
       "    </tr>\n",
       "    <tr>\n",
       "      <th>1</th>\n",
       "      <td>2</td>\n",
       "      <td>4.9</td>\n",
       "      <td>3.0</td>\n",
       "      <td>1.4</td>\n",
       "      <td>0.2</td>\n",
       "      <td>setosa</td>\n",
       "    </tr>\n",
       "    <tr>\n",
       "      <th>2</th>\n",
       "      <td>3</td>\n",
       "      <td>4.7</td>\n",
       "      <td>3.2</td>\n",
       "      <td>1.3</td>\n",
       "      <td>0.2</td>\n",
       "      <td>setosa</td>\n",
       "    </tr>\n",
       "    <tr>\n",
       "      <th>3</th>\n",
       "      <td>4</td>\n",
       "      <td>4.6</td>\n",
       "      <td>3.1</td>\n",
       "      <td>1.5</td>\n",
       "      <td>0.2</td>\n",
       "      <td>setosa</td>\n",
       "    </tr>\n",
       "    <tr>\n",
       "      <th>4</th>\n",
       "      <td>5</td>\n",
       "      <td>5.0</td>\n",
       "      <td>3.6</td>\n",
       "      <td>1.4</td>\n",
       "      <td>0.2</td>\n",
       "      <td>setosa</td>\n",
       "    </tr>\n",
       "    <tr>\n",
       "      <th>...</th>\n",
       "      <td>...</td>\n",
       "      <td>...</td>\n",
       "      <td>...</td>\n",
       "      <td>...</td>\n",
       "      <td>...</td>\n",
       "      <td>...</td>\n",
       "    </tr>\n",
       "    <tr>\n",
       "      <th>145</th>\n",
       "      <td>146</td>\n",
       "      <td>6.7</td>\n",
       "      <td>3.0</td>\n",
       "      <td>5.2</td>\n",
       "      <td>2.3</td>\n",
       "      <td>virginica</td>\n",
       "    </tr>\n",
       "    <tr>\n",
       "      <th>146</th>\n",
       "      <td>147</td>\n",
       "      <td>6.3</td>\n",
       "      <td>2.5</td>\n",
       "      <td>5.0</td>\n",
       "      <td>1.9</td>\n",
       "      <td>virginica</td>\n",
       "    </tr>\n",
       "    <tr>\n",
       "      <th>147</th>\n",
       "      <td>148</td>\n",
       "      <td>6.5</td>\n",
       "      <td>3.0</td>\n",
       "      <td>5.2</td>\n",
       "      <td>2.0</td>\n",
       "      <td>virginica</td>\n",
       "    </tr>\n",
       "    <tr>\n",
       "      <th>148</th>\n",
       "      <td>149</td>\n",
       "      <td>6.2</td>\n",
       "      <td>3.4</td>\n",
       "      <td>5.4</td>\n",
       "      <td>2.3</td>\n",
       "      <td>virginica</td>\n",
       "    </tr>\n",
       "    <tr>\n",
       "      <th>149</th>\n",
       "      <td>150</td>\n",
       "      <td>5.9</td>\n",
       "      <td>3.0</td>\n",
       "      <td>5.1</td>\n",
       "      <td>1.8</td>\n",
       "      <td>virginica</td>\n",
       "    </tr>\n",
       "  </tbody>\n",
       "</table>\n",
       "<p>150 rows × 6 columns</p>\n",
       "</div>"
      ],
      "text/plain": [
       "     Unnamed: 0  Sepal.Length  Sepal.Width  Petal.Length  Petal.Width  \\\n",
       "0             1           5.1          3.5           1.4          0.2   \n",
       "1             2           4.9          3.0           1.4          0.2   \n",
       "2             3           4.7          3.2           1.3          0.2   \n",
       "3             4           4.6          3.1           1.5          0.2   \n",
       "4             5           5.0          3.6           1.4          0.2   \n",
       "..          ...           ...          ...           ...          ...   \n",
       "145         146           6.7          3.0           5.2          2.3   \n",
       "146         147           6.3          2.5           5.0          1.9   \n",
       "147         148           6.5          3.0           5.2          2.0   \n",
       "148         149           6.2          3.4           5.4          2.3   \n",
       "149         150           5.9          3.0           5.1          1.8   \n",
       "\n",
       "       Species  \n",
       "0       setosa  \n",
       "1       setosa  \n",
       "2       setosa  \n",
       "3       setosa  \n",
       "4       setosa  \n",
       "..         ...  \n",
       "145  virginica  \n",
       "146  virginica  \n",
       "147  virginica  \n",
       "148  virginica  \n",
       "149  virginica  \n",
       "\n",
       "[150 rows x 6 columns]"
      ]
     },
     "execution_count": 2,
     "metadata": {},
     "output_type": "execute_result"
    }
   ],
   "source": [
    "df= pd.read_csv('iris.csv');\n",
    "df"
   ]
  },
  {
   "cell_type": "code",
   "execution_count": 3,
   "id": "cfac5c35",
   "metadata": {
    "ExecuteTime": {
     "end_time": "2022-06-15T01:55:13.248619Z",
     "start_time": "2022-06-15T01:55:13.224660Z"
    }
   },
   "outputs": [
    {
     "data": {
      "text/plain": [
       "array([[1, 5.1, 3.5, 1.4, 0.2, 'setosa'],\n",
       "       [2, 4.9, 3.0, 1.4, 0.2, 'setosa'],\n",
       "       [3, 4.7, 3.2, 1.3, 0.2, 'setosa'],\n",
       "       [4, 4.6, 3.1, 1.5, 0.2, 'setosa'],\n",
       "       [5, 5.0, 3.6, 1.4, 0.2, 'setosa'],\n",
       "       [6, 5.4, 3.9, 1.7, 0.4, 'setosa'],\n",
       "       [7, 4.6, 3.4, 1.4, 0.3, 'setosa'],\n",
       "       [8, 5.0, 3.4, 1.5, 0.2, 'setosa'],\n",
       "       [9, 4.4, 2.9, 1.4, 0.2, 'setosa'],\n",
       "       [10, 4.9, 3.1, 1.5, 0.1, 'setosa'],\n",
       "       [11, 5.4, 3.7, 1.5, 0.2, 'setosa'],\n",
       "       [12, 4.8, 3.4, 1.6, 0.2, 'setosa'],\n",
       "       [13, 4.8, 3.0, 1.4, 0.1, 'setosa'],\n",
       "       [14, 4.3, 3.0, 1.1, 0.1, 'setosa'],\n",
       "       [15, 5.8, 4.0, 1.2, 0.2, 'setosa'],\n",
       "       [16, 5.7, 4.4, 1.5, 0.4, 'setosa'],\n",
       "       [17, 5.4, 3.9, 1.3, 0.4, 'setosa'],\n",
       "       [18, 5.1, 3.5, 1.4, 0.3, 'setosa'],\n",
       "       [19, 5.7, 3.8, 1.7, 0.3, 'setosa'],\n",
       "       [20, 5.1, 3.8, 1.5, 0.3, 'setosa'],\n",
       "       [21, 5.4, 3.4, 1.7, 0.2, 'setosa'],\n",
       "       [22, 5.1, 3.7, 1.5, 0.4, 'setosa'],\n",
       "       [23, 4.6, 3.6, 1.0, 0.2, 'setosa'],\n",
       "       [24, 5.1, 3.3, 1.7, 0.5, 'setosa'],\n",
       "       [25, 4.8, 3.4, 1.9, 0.2, 'setosa'],\n",
       "       [26, 5.0, 3.0, 1.6, 0.2, 'setosa'],\n",
       "       [27, 5.0, 3.4, 1.6, 0.4, 'setosa'],\n",
       "       [28, 5.2, 3.5, 1.5, 0.2, 'setosa'],\n",
       "       [29, 5.2, 3.4, 1.4, 0.2, 'setosa'],\n",
       "       [30, 4.7, 3.2, 1.6, 0.2, 'setosa'],\n",
       "       [31, 4.8, 3.1, 1.6, 0.2, 'setosa'],\n",
       "       [32, 5.4, 3.4, 1.5, 0.4, 'setosa'],\n",
       "       [33, 5.2, 4.1, 1.5, 0.1, 'setosa'],\n",
       "       [34, 5.5, 4.2, 1.4, 0.2, 'setosa'],\n",
       "       [35, 4.9, 3.1, 1.5, 0.2, 'setosa'],\n",
       "       [36, 5.0, 3.2, 1.2, 0.2, 'setosa'],\n",
       "       [37, 5.5, 3.5, 1.3, 0.2, 'setosa'],\n",
       "       [38, 4.9, 3.6, 1.4, 0.1, 'setosa'],\n",
       "       [39, 4.4, 3.0, 1.3, 0.2, 'setosa'],\n",
       "       [40, 5.1, 3.4, 1.5, 0.2, 'setosa'],\n",
       "       [41, 5.0, 3.5, 1.3, 0.3, 'setosa'],\n",
       "       [42, 4.5, 2.3, 1.3, 0.3, 'setosa'],\n",
       "       [43, 4.4, 3.2, 1.3, 0.2, 'setosa'],\n",
       "       [44, 5.0, 3.5, 1.6, 0.6, 'setosa'],\n",
       "       [45, 5.1, 3.8, 1.9, 0.4, 'setosa'],\n",
       "       [46, 4.8, 3.0, 1.4, 0.3, 'setosa'],\n",
       "       [47, 5.1, 3.8, 1.6, 0.2, 'setosa'],\n",
       "       [48, 4.6, 3.2, 1.4, 0.2, 'setosa'],\n",
       "       [49, 5.3, 3.7, 1.5, 0.2, 'setosa'],\n",
       "       [50, 5.0, 3.3, 1.4, 0.2, 'setosa'],\n",
       "       [51, 7.0, 3.2, 4.7, 1.4, 'versicolor'],\n",
       "       [52, 6.4, 3.2, 4.5, 1.5, 'versicolor'],\n",
       "       [53, 6.9, 3.1, 4.9, 1.5, 'versicolor'],\n",
       "       [54, 5.5, 2.3, 4.0, 1.3, 'versicolor'],\n",
       "       [55, 6.5, 2.8, 4.6, 1.5, 'versicolor'],\n",
       "       [56, 5.7, 2.8, 4.5, 1.3, 'versicolor'],\n",
       "       [57, 6.3, 3.3, 4.7, 1.6, 'versicolor'],\n",
       "       [58, 4.9, 2.4, 3.3, 1.0, 'versicolor'],\n",
       "       [59, 6.6, 2.9, 4.6, 1.3, 'versicolor'],\n",
       "       [60, 5.2, 2.7, 3.9, 1.4, 'versicolor'],\n",
       "       [61, 5.0, 2.0, 3.5, 1.0, 'versicolor'],\n",
       "       [62, 5.9, 3.0, 4.2, 1.5, 'versicolor'],\n",
       "       [63, 6.0, 2.2, 4.0, 1.0, 'versicolor'],\n",
       "       [64, 6.1, 2.9, 4.7, 1.4, 'versicolor'],\n",
       "       [65, 5.6, 2.9, 3.6, 1.3, 'versicolor'],\n",
       "       [66, 6.7, 3.1, 4.4, 1.4, 'versicolor'],\n",
       "       [67, 5.6, 3.0, 4.5, 1.5, 'versicolor'],\n",
       "       [68, 5.8, 2.7, 4.1, 1.0, 'versicolor'],\n",
       "       [69, 6.2, 2.2, 4.5, 1.5, 'versicolor'],\n",
       "       [70, 5.6, 2.5, 3.9, 1.1, 'versicolor'],\n",
       "       [71, 5.9, 3.2, 4.8, 1.8, 'versicolor'],\n",
       "       [72, 6.1, 2.8, 4.0, 1.3, 'versicolor'],\n",
       "       [73, 6.3, 2.5, 4.9, 1.5, 'versicolor'],\n",
       "       [74, 6.1, 2.8, 4.7, 1.2, 'versicolor'],\n",
       "       [75, 6.4, 2.9, 4.3, 1.3, 'versicolor'],\n",
       "       [76, 6.6, 3.0, 4.4, 1.4, 'versicolor'],\n",
       "       [77, 6.8, 2.8, 4.8, 1.4, 'versicolor'],\n",
       "       [78, 6.7, 3.0, 5.0, 1.7, 'versicolor'],\n",
       "       [79, 6.0, 2.9, 4.5, 1.5, 'versicolor'],\n",
       "       [80, 5.7, 2.6, 3.5, 1.0, 'versicolor'],\n",
       "       [81, 5.5, 2.4, 3.8, 1.1, 'versicolor'],\n",
       "       [82, 5.5, 2.4, 3.7, 1.0, 'versicolor'],\n",
       "       [83, 5.8, 2.7, 3.9, 1.2, 'versicolor'],\n",
       "       [84, 6.0, 2.7, 5.1, 1.6, 'versicolor'],\n",
       "       [85, 5.4, 3.0, 4.5, 1.5, 'versicolor'],\n",
       "       [86, 6.0, 3.4, 4.5, 1.6, 'versicolor'],\n",
       "       [87, 6.7, 3.1, 4.7, 1.5, 'versicolor'],\n",
       "       [88, 6.3, 2.3, 4.4, 1.3, 'versicolor'],\n",
       "       [89, 5.6, 3.0, 4.1, 1.3, 'versicolor'],\n",
       "       [90, 5.5, 2.5, 4.0, 1.3, 'versicolor'],\n",
       "       [91, 5.5, 2.6, 4.4, 1.2, 'versicolor'],\n",
       "       [92, 6.1, 3.0, 4.6, 1.4, 'versicolor'],\n",
       "       [93, 5.8, 2.6, 4.0, 1.2, 'versicolor'],\n",
       "       [94, 5.0, 2.3, 3.3, 1.0, 'versicolor'],\n",
       "       [95, 5.6, 2.7, 4.2, 1.3, 'versicolor'],\n",
       "       [96, 5.7, 3.0, 4.2, 1.2, 'versicolor'],\n",
       "       [97, 5.7, 2.9, 4.2, 1.3, 'versicolor'],\n",
       "       [98, 6.2, 2.9, 4.3, 1.3, 'versicolor'],\n",
       "       [99, 5.1, 2.5, 3.0, 1.1, 'versicolor'],\n",
       "       [100, 5.7, 2.8, 4.1, 1.3, 'versicolor'],\n",
       "       [101, 6.3, 3.3, 6.0, 2.5, 'virginica'],\n",
       "       [102, 5.8, 2.7, 5.1, 1.9, 'virginica'],\n",
       "       [103, 7.1, 3.0, 5.9, 2.1, 'virginica'],\n",
       "       [104, 6.3, 2.9, 5.6, 1.8, 'virginica'],\n",
       "       [105, 6.5, 3.0, 5.8, 2.2, 'virginica'],\n",
       "       [106, 7.6, 3.0, 6.6, 2.1, 'virginica'],\n",
       "       [107, 4.9, 2.5, 4.5, 1.7, 'virginica'],\n",
       "       [108, 7.3, 2.9, 6.3, 1.8, 'virginica'],\n",
       "       [109, 6.7, 2.5, 5.8, 1.8, 'virginica'],\n",
       "       [110, 7.2, 3.6, 6.1, 2.5, 'virginica'],\n",
       "       [111, 6.5, 3.2, 5.1, 2.0, 'virginica'],\n",
       "       [112, 6.4, 2.7, 5.3, 1.9, 'virginica'],\n",
       "       [113, 6.8, 3.0, 5.5, 2.1, 'virginica'],\n",
       "       [114, 5.7, 2.5, 5.0, 2.0, 'virginica'],\n",
       "       [115, 5.8, 2.8, 5.1, 2.4, 'virginica'],\n",
       "       [116, 6.4, 3.2, 5.3, 2.3, 'virginica'],\n",
       "       [117, 6.5, 3.0, 5.5, 1.8, 'virginica'],\n",
       "       [118, 7.7, 3.8, 6.7, 2.2, 'virginica'],\n",
       "       [119, 7.7, 2.6, 6.9, 2.3, 'virginica'],\n",
       "       [120, 6.0, 2.2, 5.0, 1.5, 'virginica'],\n",
       "       [121, 6.9, 3.2, 5.7, 2.3, 'virginica'],\n",
       "       [122, 5.6, 2.8, 4.9, 2.0, 'virginica'],\n",
       "       [123, 7.7, 2.8, 6.7, 2.0, 'virginica'],\n",
       "       [124, 6.3, 2.7, 4.9, 1.8, 'virginica'],\n",
       "       [125, 6.7, 3.3, 5.7, 2.1, 'virginica'],\n",
       "       [126, 7.2, 3.2, 6.0, 1.8, 'virginica'],\n",
       "       [127, 6.2, 2.8, 4.8, 1.8, 'virginica'],\n",
       "       [128, 6.1, 3.0, 4.9, 1.8, 'virginica'],\n",
       "       [129, 6.4, 2.8, 5.6, 2.1, 'virginica'],\n",
       "       [130, 7.2, 3.0, 5.8, 1.6, 'virginica'],\n",
       "       [131, 7.4, 2.8, 6.1, 1.9, 'virginica'],\n",
       "       [132, 7.9, 3.8, 6.4, 2.0, 'virginica'],\n",
       "       [133, 6.4, 2.8, 5.6, 2.2, 'virginica'],\n",
       "       [134, 6.3, 2.8, 5.1, 1.5, 'virginica'],\n",
       "       [135, 6.1, 2.6, 5.6, 1.4, 'virginica'],\n",
       "       [136, 7.7, 3.0, 6.1, 2.3, 'virginica'],\n",
       "       [137, 6.3, 3.4, 5.6, 2.4, 'virginica'],\n",
       "       [138, 6.4, 3.1, 5.5, 1.8, 'virginica'],\n",
       "       [139, 6.0, 3.0, 4.8, 1.8, 'virginica'],\n",
       "       [140, 6.9, 3.1, 5.4, 2.1, 'virginica'],\n",
       "       [141, 6.7, 3.1, 5.6, 2.4, 'virginica'],\n",
       "       [142, 6.9, 3.1, 5.1, 2.3, 'virginica'],\n",
       "       [143, 5.8, 2.7, 5.1, 1.9, 'virginica'],\n",
       "       [144, 6.8, 3.2, 5.9, 2.3, 'virginica'],\n",
       "       [145, 6.7, 3.3, 5.7, 2.5, 'virginica'],\n",
       "       [146, 6.7, 3.0, 5.2, 2.3, 'virginica'],\n",
       "       [147, 6.3, 2.5, 5.0, 1.9, 'virginica'],\n",
       "       [148, 6.5, 3.0, 5.2, 2.0, 'virginica'],\n",
       "       [149, 6.2, 3.4, 5.4, 2.3, 'virginica'],\n",
       "       [150, 5.9, 3.0, 5.1, 1.8, 'virginica']], dtype=object)"
      ]
     },
     "execution_count": 3,
     "metadata": {},
     "output_type": "execute_result"
    }
   ],
   "source": [
    "df.values"
   ]
  },
  {
   "cell_type": "code",
   "execution_count": 4,
   "id": "e0386d04",
   "metadata": {
    "ExecuteTime": {
     "end_time": "2022-06-15T02:00:20.785162Z",
     "start_time": "2022-06-15T02:00:20.763324Z"
    }
   },
   "outputs": [
    {
     "name": "stdout",
     "output_type": "stream",
     "text": [
      "Index(['Unnamed: 0', 'Sepal.Length', 'Sepal.Width', 'Petal.Length',\n",
      "       'Petal.Width', 'Species'],\n",
      "      dtype='object')\n"
     ]
    }
   ],
   "source": [
    "print(df.columns)"
   ]
  },
  {
   "cell_type": "code",
   "execution_count": 5,
   "id": "dbd6682d",
   "metadata": {
    "ExecuteTime": {
     "end_time": "2022-06-15T02:01:01.532859Z",
     "start_time": "2022-06-15T02:01:01.488883Z"
    }
   },
   "outputs": [
    {
     "name": "stdout",
     "output_type": "stream",
     "text": [
      "       Unnamed: 0  Sepal.Length  Sepal.Width  Petal.Length  Petal.Width\n",
      "count  150.000000    150.000000   150.000000    150.000000   150.000000\n",
      "mean    75.500000      5.843333     3.057333      3.758000     1.199333\n",
      "std     43.445368      0.828066     0.435866      1.765298     0.762238\n",
      "min      1.000000      4.300000     2.000000      1.000000     0.100000\n",
      "25%     38.250000      5.100000     2.800000      1.600000     0.300000\n",
      "50%     75.500000      5.800000     3.000000      4.350000     1.300000\n",
      "75%    112.750000      6.400000     3.300000      5.100000     1.800000\n",
      "max    150.000000      7.900000     4.400000      6.900000     2.500000\n"
     ]
    }
   ],
   "source": [
    "print(df.describe())"
   ]
  },
  {
   "cell_type": "code",
   "execution_count": 6,
   "id": "798232bf",
   "metadata": {
    "ExecuteTime": {
     "end_time": "2022-06-15T02:01:20.415618Z",
     "start_time": "2022-06-15T02:01:20.377633Z"
    }
   },
   "outputs": [
    {
     "name": "stdout",
     "output_type": "stream",
     "text": [
      "<class 'pandas.core.frame.DataFrame'>\n",
      "RangeIndex: 150 entries, 0 to 149\n",
      "Data columns (total 6 columns):\n",
      " #   Column        Non-Null Count  Dtype  \n",
      "---  ------        --------------  -----  \n",
      " 0   Unnamed: 0    150 non-null    int64  \n",
      " 1   Sepal.Length  150 non-null    float64\n",
      " 2   Sepal.Width   150 non-null    float64\n",
      " 3   Petal.Length  150 non-null    float64\n",
      " 4   Petal.Width   150 non-null    float64\n",
      " 5   Species       150 non-null    object \n",
      "dtypes: float64(4), int64(1), object(1)\n",
      "memory usage: 7.2+ KB\n",
      "None\n"
     ]
    }
   ],
   "source": [
    "print(df.info())"
   ]
  },
  {
   "cell_type": "code",
   "execution_count": 7,
   "id": "6bc7c768",
   "metadata": {
    "ExecuteTime": {
     "end_time": "2022-06-15T02:01:40.655428Z",
     "start_time": "2022-06-15T02:01:40.631879Z"
    }
   },
   "outputs": [
    {
     "data": {
      "text/html": [
       "<div>\n",
       "<style scoped>\n",
       "    .dataframe tbody tr th:only-of-type {\n",
       "        vertical-align: middle;\n",
       "    }\n",
       "\n",
       "    .dataframe tbody tr th {\n",
       "        vertical-align: top;\n",
       "    }\n",
       "\n",
       "    .dataframe thead th {\n",
       "        text-align: right;\n",
       "    }\n",
       "</style>\n",
       "<table border=\"1\" class=\"dataframe\">\n",
       "  <thead>\n",
       "    <tr style=\"text-align: right;\">\n",
       "      <th></th>\n",
       "      <th>Unnamed: 0</th>\n",
       "      <th>Sepal.Length</th>\n",
       "      <th>Sepal.Width</th>\n",
       "      <th>Petal.Length</th>\n",
       "      <th>Petal.Width</th>\n",
       "      <th>Species</th>\n",
       "    </tr>\n",
       "  </thead>\n",
       "  <tbody>\n",
       "    <tr>\n",
       "      <th>0</th>\n",
       "      <td>False</td>\n",
       "      <td>False</td>\n",
       "      <td>False</td>\n",
       "      <td>False</td>\n",
       "      <td>False</td>\n",
       "      <td>False</td>\n",
       "    </tr>\n",
       "    <tr>\n",
       "      <th>1</th>\n",
       "      <td>False</td>\n",
       "      <td>False</td>\n",
       "      <td>False</td>\n",
       "      <td>False</td>\n",
       "      <td>False</td>\n",
       "      <td>False</td>\n",
       "    </tr>\n",
       "    <tr>\n",
       "      <th>2</th>\n",
       "      <td>False</td>\n",
       "      <td>False</td>\n",
       "      <td>False</td>\n",
       "      <td>False</td>\n",
       "      <td>False</td>\n",
       "      <td>False</td>\n",
       "    </tr>\n",
       "    <tr>\n",
       "      <th>3</th>\n",
       "      <td>False</td>\n",
       "      <td>False</td>\n",
       "      <td>False</td>\n",
       "      <td>False</td>\n",
       "      <td>False</td>\n",
       "      <td>False</td>\n",
       "    </tr>\n",
       "    <tr>\n",
       "      <th>4</th>\n",
       "      <td>False</td>\n",
       "      <td>False</td>\n",
       "      <td>False</td>\n",
       "      <td>False</td>\n",
       "      <td>False</td>\n",
       "      <td>False</td>\n",
       "    </tr>\n",
       "  </tbody>\n",
       "</table>\n",
       "</div>"
      ],
      "text/plain": [
       "   Unnamed: 0  Sepal.Length  Sepal.Width  Petal.Length  Petal.Width  Species\n",
       "0       False         False        False         False        False    False\n",
       "1       False         False        False         False        False    False\n",
       "2       False         False        False         False        False    False\n",
       "3       False         False        False         False        False    False\n",
       "4       False         False        False         False        False    False"
      ]
     },
     "execution_count": 7,
     "metadata": {},
     "output_type": "execute_result"
    }
   ],
   "source": [
    "df.isnull().head()"
   ]
  },
  {
   "cell_type": "code",
   "execution_count": 8,
   "id": "276f3e9d",
   "metadata": {
    "ExecuteTime": {
     "end_time": "2022-06-15T02:01:52.641788Z",
     "start_time": "2022-06-15T02:01:52.625859Z"
    }
   },
   "outputs": [
    {
     "data": {
      "text/plain": [
       "Unnamed: 0      0\n",
       "Sepal.Length    0\n",
       "Sepal.Width     0\n",
       "Petal.Length    0\n",
       "Petal.Width     0\n",
       "Species         0\n",
       "dtype: int64"
      ]
     },
     "execution_count": 8,
     "metadata": {},
     "output_type": "execute_result"
    }
   ],
   "source": [
    "df.isnull().sum()"
   ]
  },
  {
   "cell_type": "code",
   "execution_count": 9,
   "id": "5ff317f8",
   "metadata": {
    "ExecuteTime": {
     "end_time": "2022-06-15T02:02:00.892613Z",
     "start_time": "2022-06-15T02:02:00.875934Z"
    }
   },
   "outputs": [],
   "source": [
    "df_copy=df.copy(deep=True)"
   ]
  },
  {
   "cell_type": "code",
   "execution_count": 10,
   "id": "7a012708",
   "metadata": {
    "ExecuteTime": {
     "end_time": "2022-06-15T02:02:06.023586Z",
     "start_time": "2022-06-15T02:02:05.985123Z"
    }
   },
   "outputs": [
    {
     "data": {
      "text/html": [
       "<div>\n",
       "<style scoped>\n",
       "    .dataframe tbody tr th:only-of-type {\n",
       "        vertical-align: middle;\n",
       "    }\n",
       "\n",
       "    .dataframe tbody tr th {\n",
       "        vertical-align: top;\n",
       "    }\n",
       "\n",
       "    .dataframe thead th {\n",
       "        text-align: right;\n",
       "    }\n",
       "</style>\n",
       "<table border=\"1\" class=\"dataframe\">\n",
       "  <thead>\n",
       "    <tr style=\"text-align: right;\">\n",
       "      <th></th>\n",
       "      <th>Unnamed: 0</th>\n",
       "      <th>Sepal.Length</th>\n",
       "      <th>Sepal.Width</th>\n",
       "      <th>Petal.Length</th>\n",
       "      <th>Petal.Width</th>\n",
       "      <th>Species</th>\n",
       "    </tr>\n",
       "  </thead>\n",
       "  <tbody>\n",
       "    <tr>\n",
       "      <th>0</th>\n",
       "      <td>1</td>\n",
       "      <td>5.1</td>\n",
       "      <td>3.5</td>\n",
       "      <td>1.4</td>\n",
       "      <td>0.2</td>\n",
       "      <td>setosa</td>\n",
       "    </tr>\n",
       "    <tr>\n",
       "      <th>1</th>\n",
       "      <td>2</td>\n",
       "      <td>4.9</td>\n",
       "      <td>3.0</td>\n",
       "      <td>1.4</td>\n",
       "      <td>0.2</td>\n",
       "      <td>setosa</td>\n",
       "    </tr>\n",
       "    <tr>\n",
       "      <th>2</th>\n",
       "      <td>3</td>\n",
       "      <td>4.7</td>\n",
       "      <td>3.2</td>\n",
       "      <td>1.3</td>\n",
       "      <td>0.2</td>\n",
       "      <td>setosa</td>\n",
       "    </tr>\n",
       "    <tr>\n",
       "      <th>3</th>\n",
       "      <td>4</td>\n",
       "      <td>4.6</td>\n",
       "      <td>3.1</td>\n",
       "      <td>1.5</td>\n",
       "      <td>0.2</td>\n",
       "      <td>setosa</td>\n",
       "    </tr>\n",
       "    <tr>\n",
       "      <th>4</th>\n",
       "      <td>5</td>\n",
       "      <td>5.0</td>\n",
       "      <td>3.6</td>\n",
       "      <td>1.4</td>\n",
       "      <td>0.2</td>\n",
       "      <td>setosa</td>\n",
       "    </tr>\n",
       "    <tr>\n",
       "      <th>...</th>\n",
       "      <td>...</td>\n",
       "      <td>...</td>\n",
       "      <td>...</td>\n",
       "      <td>...</td>\n",
       "      <td>...</td>\n",
       "      <td>...</td>\n",
       "    </tr>\n",
       "    <tr>\n",
       "      <th>145</th>\n",
       "      <td>146</td>\n",
       "      <td>6.7</td>\n",
       "      <td>3.0</td>\n",
       "      <td>5.2</td>\n",
       "      <td>2.3</td>\n",
       "      <td>virginica</td>\n",
       "    </tr>\n",
       "    <tr>\n",
       "      <th>146</th>\n",
       "      <td>147</td>\n",
       "      <td>6.3</td>\n",
       "      <td>2.5</td>\n",
       "      <td>5.0</td>\n",
       "      <td>1.9</td>\n",
       "      <td>virginica</td>\n",
       "    </tr>\n",
       "    <tr>\n",
       "      <th>147</th>\n",
       "      <td>148</td>\n",
       "      <td>6.5</td>\n",
       "      <td>3.0</td>\n",
       "      <td>5.2</td>\n",
       "      <td>2.0</td>\n",
       "      <td>virginica</td>\n",
       "    </tr>\n",
       "    <tr>\n",
       "      <th>148</th>\n",
       "      <td>149</td>\n",
       "      <td>6.2</td>\n",
       "      <td>3.4</td>\n",
       "      <td>5.4</td>\n",
       "      <td>2.3</td>\n",
       "      <td>virginica</td>\n",
       "    </tr>\n",
       "    <tr>\n",
       "      <th>149</th>\n",
       "      <td>150</td>\n",
       "      <td>5.9</td>\n",
       "      <td>3.0</td>\n",
       "      <td>5.1</td>\n",
       "      <td>1.8</td>\n",
       "      <td>virginica</td>\n",
       "    </tr>\n",
       "  </tbody>\n",
       "</table>\n",
       "<p>150 rows × 6 columns</p>\n",
       "</div>"
      ],
      "text/plain": [
       "     Unnamed: 0  Sepal.Length  Sepal.Width  Petal.Length  Petal.Width  \\\n",
       "0             1           5.1          3.5           1.4          0.2   \n",
       "1             2           4.9          3.0           1.4          0.2   \n",
       "2             3           4.7          3.2           1.3          0.2   \n",
       "3             4           4.6          3.1           1.5          0.2   \n",
       "4             5           5.0          3.6           1.4          0.2   \n",
       "..          ...           ...          ...           ...          ...   \n",
       "145         146           6.7          3.0           5.2          2.3   \n",
       "146         147           6.3          2.5           5.0          1.9   \n",
       "147         148           6.5          3.0           5.2          2.0   \n",
       "148         149           6.2          3.4           5.4          2.3   \n",
       "149         150           5.9          3.0           5.1          1.8   \n",
       "\n",
       "       Species  \n",
       "0       setosa  \n",
       "1       setosa  \n",
       "2       setosa  \n",
       "3       setosa  \n",
       "4       setosa  \n",
       "..         ...  \n",
       "145  virginica  \n",
       "146  virginica  \n",
       "147  virginica  \n",
       "148  virginica  \n",
       "149  virginica  \n",
       "\n",
       "[150 rows x 6 columns]"
      ]
     },
     "execution_count": 10,
     "metadata": {},
     "output_type": "execute_result"
    }
   ],
   "source": [
    "df_copy"
   ]
  },
  {
   "cell_type": "code",
   "execution_count": 11,
   "id": "024a3ea7",
   "metadata": {
    "ExecuteTime": {
     "end_time": "2022-06-15T02:03:28.027114Z",
     "start_time": "2022-06-15T02:03:27.997201Z"
    }
   },
   "outputs": [
    {
     "data": {
      "text/plain": [
       "Unnamed: 0      0\n",
       "Sepal.Length    0\n",
       "Sepal.Width     0\n",
       "Petal.Length    0\n",
       "Petal.Width     0\n",
       "Species         0\n",
       "dtype: int64"
      ]
     },
     "execution_count": 11,
     "metadata": {},
     "output_type": "execute_result"
    }
   ],
   "source": [
    "df_copy[['Sepal.Length','Sepal.Width','Petal.Length','Petal.Width']] =df_copy[['Sepal.Length','Sepal.Width','Petal.Length','Petal.Width']].replace(0,np.NaN)\n",
    "df_copy.isnull().sum()"
   ]
  },
  {
   "cell_type": "code",
   "execution_count": 12,
   "id": "e5f894b3",
   "metadata": {
    "ExecuteTime": {
     "end_time": "2022-06-15T02:03:41.411012Z",
     "start_time": "2022-06-15T02:03:39.901334Z"
    }
   },
   "outputs": [
    {
     "data": {
      "image/png": "[encoded data removed]",
      "text/plain": [
       "<Figure size 1440x1440 with 6 Axes>"
      ]
     },
     "metadata": {},
     "output_type": "display_data"
    }
   ],
   "source": [
    "plt.style.use(\"seaborn\")\n",
    "p=df.hist(figsize=(20,20))"
   ]
  },
  {
   "cell_type": "code",
   "execution_count": 13,
   "id": "24b05f4a",
   "metadata": {
    "ExecuteTime": {
     "end_time": "2022-06-15T02:05:29.847552Z",
     "start_time": "2022-06-15T02:05:29.831510Z"
    }
   },
   "outputs": [],
   "source": [
    "df_copy['Sepal.Length'].fillna(df_copy['Sepal.Length'].mean(),inplace=True)\n",
    "df_copy['Sepal.Width'].fillna(df_copy['Sepal.Width'].mean(),inplace=True)\n",
    "df_copy['Petal.Length'].fillna(df_copy['Petal.Length'].mean(),inplace=True)\n",
    "df_copy['Petal.Width'].fillna(df_copy['Petal.Width'].mean(),inplace=True)\n"
   ]
  },
  {
   "cell_type": "code",
   "execution_count": 14,
   "id": "7aaeecf6",
   "metadata": {
    "ExecuteTime": {
     "end_time": "2022-06-15T02:05:40.985493Z",
     "start_time": "2022-06-15T02:05:39.475344Z"
    }
   },
   "outputs": [
    {
     "data": {
      "image/png": "[encoded data removed]",
      "text/plain": [
       "<Figure size 1440x1440 with 6 Axes>"
      ]
     },
     "metadata": {},
     "output_type": "display_data"
    }
   ],
   "source": [
    "p=df_copy.hist(figsize=(20,20))"
   ]
  },
  {
   "cell_type": "code",
   "execution_count": 15,
   "id": "70ab16c3",
   "metadata": {
    "ExecuteTime": {
     "end_time": "2022-06-15T02:11:34.383913Z",
     "start_time": "2022-06-15T02:11:34.374466Z"
    }
   },
   "outputs": [
    {
     "name": "stdout",
     "output_type": "stream",
     "text": [
      "0         setosa\n",
      "1         setosa\n",
      "2         setosa\n",
      "3         setosa\n",
      "4         setosa\n",
      "         ...    \n",
      "145    virginica\n",
      "146    virginica\n",
      "147    virginica\n",
      "148    virginica\n",
      "149    virginica\n",
      "Name: Species, Length: 150, dtype: object\n"
     ]
    }
   ],
   "source": [
    "y= df.iloc[:,5]\n",
    "print(y)"
   ]
  },
  {
   "cell_type": "code",
   "execution_count": 16,
   "id": "fbf97de0",
   "metadata": {
    "ExecuteTime": {
     "end_time": "2022-06-15T02:26:10.182535Z",
     "start_time": "2022-06-15T02:26:10.141198Z"
    }
   },
   "outputs": [
    {
     "data": {
      "text/plain": [
       "array([[5.1, 3.5, 1.4, 0.2],\n",
       "       [4.9, 3. , 1.4, 0.2],\n",
       "       [4.7, 3.2, 1.3, 0.2],\n",
       "       [4.6, 3.1, 1.5, 0.2],\n",
       "       [5. , 3.6, 1.4, 0.2],\n",
       "       [5.4, 3.9, 1.7, 0.4],\n",
       "       [4.6, 3.4, 1.4, 0.3],\n",
       "       [5. , 3.4, 1.5, 0.2],\n",
       "       [4.4, 2.9, 1.4, 0.2],\n",
       "       [4.9, 3.1, 1.5, 0.1],\n",
       "       [5.4, 3.7, 1.5, 0.2],\n",
       "       [4.8, 3.4, 1.6, 0.2],\n",
       "       [4.8, 3. , 1.4, 0.1],\n",
       "       [4.3, 3. , 1.1, 0.1],\n",
       "       [5.8, 4. , 1.2, 0.2],\n",
       "       [5.7, 4.4, 1.5, 0.4],\n",
       "       [5.4, 3.9, 1.3, 0.4],\n",
       "       [5.1, 3.5, 1.4, 0.3],\n",
       "       [5.7, 3.8, 1.7, 0.3],\n",
       "       [5.1, 3.8, 1.5, 0.3],\n",
       "       [5.4, 3.4, 1.7, 0.2],\n",
       "       [5.1, 3.7, 1.5, 0.4],\n",
       "       [4.6, 3.6, 1. , 0.2],\n",
       "       [5.1, 3.3, 1.7, 0.5],\n",
       "       [4.8, 3.4, 1.9, 0.2],\n",
       "       [5. , 3. , 1.6, 0.2],\n",
       "       [5. , 3.4, 1.6, 0.4],\n",
       "       [5.2, 3.5, 1.5, 0.2],\n",
       "       [5.2, 3.4, 1.4, 0.2],\n",
       "       [4.7, 3.2, 1.6, 0.2],\n",
       "       [4.8, 3.1, 1.6, 0.2],\n",
       "       [5.4, 3.4, 1.5, 0.4],\n",
       "       [5.2, 4.1, 1.5, 0.1],\n",
       "       [5.5, 4.2, 1.4, 0.2],\n",
       "       [4.9, 3.1, 1.5, 0.2],\n",
       "       [5. , 3.2, 1.2, 0.2],\n",
       "       [5.5, 3.5, 1.3, 0.2],\n",
       "       [4.9, 3.6, 1.4, 0.1],\n",
       "       [4.4, 3. , 1.3, 0.2],\n",
       "       [5.1, 3.4, 1.5, 0.2],\n",
       "       [5. , 3.5, 1.3, 0.3],\n",
       "       [4.5, 2.3, 1.3, 0.3],\n",
       "       [4.4, 3.2, 1.3, 0.2],\n",
       "       [5. , 3.5, 1.6, 0.6],\n",
       "       [5.1, 3.8, 1.9, 0.4],\n",
       "       [4.8, 3. , 1.4, 0.3],\n",
       "       [5.1, 3.8, 1.6, 0.2],\n",
       "       [4.6, 3.2, 1.4, 0.2],\n",
       "       [5.3, 3.7, 1.5, 0.2],\n",
       "       [5. , 3.3, 1.4, 0.2],\n",
       "       [7. , 3.2, 4.7, 1.4],\n",
       "       [6.4, 3.2, 4.5, 1.5],\n",
       "       [6.9, 3.1, 4.9, 1.5],\n",
       "       [5.5, 2.3, 4. , 1.3],\n",
       "       [6.5, 2.8, 4.6, 1.5],\n",
       "       [5.7, 2.8, 4.5, 1.3],\n",
       "       [6.3, 3.3, 4.7, 1.6],\n",
       "       [4.9, 2.4, 3.3, 1. ],\n",
       "       [6.6, 2.9, 4.6, 1.3],\n",
       "       [5.2, 2.7, 3.9, 1.4],\n",
       "       [5. , 2. , 3.5, 1. ],\n",
       "       [5.9, 3. , 4.2, 1.5],\n",
       "       [6. , 2.2, 4. , 1. ],\n",
       "       [6.1, 2.9, 4.7, 1.4],\n",
       "       [5.6, 2.9, 3.6, 1.3],\n",
       "       [6.7, 3.1, 4.4, 1.4],\n",
       "       [5.6, 3. , 4.5, 1.5],\n",
       "       [5.8, 2.7, 4.1, 1. ],\n",
       "       [6.2, 2.2, 4.5, 1.5],\n",
       "       [5.6, 2.5, 3.9, 1.1],\n",
       "       [5.9, 3.2, 4.8, 1.8],\n",
       "       [6.1, 2.8, 4. , 1.3],\n",
       "       [6.3, 2.5, 4.9, 1.5],\n",
       "       [6.1, 2.8, 4.7, 1.2],\n",
       "       [6.4, 2.9, 4.3, 1.3],\n",
       "       [6.6, 3. , 4.4, 1.4],\n",
       "       [6.8, 2.8, 4.8, 1.4],\n",
       "       [6.7, 3. , 5. , 1.7],\n",
       "       [6. , 2.9, 4.5, 1.5],\n",
       "       [5.7, 2.6, 3.5, 1. ],\n",
       "       [5.5, 2.4, 3.8, 1.1],\n",
       "       [5.5, 2.4, 3.7, 1. ],\n",
       "       [5.8, 2.7, 3.9, 1.2],\n",
       "       [6. , 2.7, 5.1, 1.6],\n",
       "       [5.4, 3. , 4.5, 1.5],\n",
       "       [6. , 3.4, 4.5, 1.6],\n",
       "       [6.7, 3.1, 4.7, 1.5],\n",
       "       [6.3, 2.3, 4.4, 1.3],\n",
       "       [5.6, 3. , 4.1, 1.3],\n",
       "       [5.5, 2.5, 4. , 1.3],\n",
       "       [5.5, 2.6, 4.4, 1.2],\n",
       "       [6.1, 3. , 4.6, 1.4],\n",
       "       [5.8, 2.6, 4. , 1.2],\n",
       "       [5. , 2.3, 3.3, 1. ],\n",
       "       [5.6, 2.7, 4.2, 1.3],\n",
       "       [5.7, 3. , 4.2, 1.2],\n",
       "       [5.7, 2.9, 4.2, 1.3],\n",
       "       [6.2, 2.9, 4.3, 1.3],\n",
       "       [5.1, 2.5, 3. , 1.1],\n",
       "       [5.7, 2.8, 4.1, 1.3],\n",
       "       [6.3, 3.3, 6. , 2.5],\n",
       "       [5.8, 2.7, 5.1, 1.9],\n",
       "       [7.1, 3. , 5.9, 2.1],\n",
       "       [6.3, 2.9, 5.6, 1.8],\n",
       "       [6.5, 3. , 5.8, 2.2],\n",
       "       [7.6, 3. , 6.6, 2.1],\n",
       "       [4.9, 2.5, 4.5, 1.7],\n",
       "       [7.3, 2.9, 6.3, 1.8],\n",
       "       [6.7, 2.5, 5.8, 1.8],\n",
       "       [7.2, 3.6, 6.1, 2.5],\n",
       "       [6.5, 3.2, 5.1, 2. ],\n",
       "       [6.4, 2.7, 5.3, 1.9],\n",
       "       [6.8, 3. , 5.5, 2.1],\n",
       "       [5.7, 2.5, 5. , 2. ],\n",
       "       [5.8, 2.8, 5.1, 2.4],\n",
       "       [6.4, 3.2, 5.3, 2.3],\n",
       "       [6.5, 3. , 5.5, 1.8],\n",
       "       [7.7, 3.8, 6.7, 2.2],\n",
       "       [7.7, 2.6, 6.9, 2.3],\n",
       "       [6. , 2.2, 5. , 1.5],\n",
       "       [6.9, 3.2, 5.7, 2.3],\n",
       "       [5.6, 2.8, 4.9, 2. ],\n",
       "       [7.7, 2.8, 6.7, 2. ],\n",
       "       [6.3, 2.7, 4.9, 1.8],\n",
       "       [6.7, 3.3, 5.7, 2.1],\n",
       "       [7.2, 3.2, 6. , 1.8],\n",
       "       [6.2, 2.8, 4.8, 1.8],\n",
       "       [6.1, 3. , 4.9, 1.8],\n",
       "       [6.4, 2.8, 5.6, 2.1],\n",
       "       [7.2, 3. , 5.8, 1.6],\n",
       "       [7.4, 2.8, 6.1, 1.9],\n",
       "       [7.9, 3.8, 6.4, 2. ],\n",
       "       [6.4, 2.8, 5.6, 2.2],\n",
       "       [6.3, 2.8, 5.1, 1.5],\n",
       "       [6.1, 2.6, 5.6, 1.4],\n",
       "       [7.7, 3. , 6.1, 2.3],\n",
       "       [6.3, 3.4, 5.6, 2.4],\n",
       "       [6.4, 3.1, 5.5, 1.8],\n",
       "       [6. , 3. , 4.8, 1.8],\n",
       "       [6.9, 3.1, 5.4, 2.1],\n",
       "       [6.7, 3.1, 5.6, 2.4],\n",
       "       [6.9, 3.1, 5.1, 2.3],\n",
       "       [5.8, 2.7, 5.1, 1.9],\n",
       "       [6.8, 3.2, 5.9, 2.3],\n",
       "       [6.7, 3.3, 5.7, 2.5],\n",
       "       [6.7, 3. , 5.2, 2.3],\n",
       "       [6.3, 2.5, 5. , 1.9],\n",
       "       [6.5, 3. , 5.2, 2. ],\n",
       "       [6.2, 3.4, 5.4, 2.3],\n",
       "       [5.9, 3. , 5.1, 1.8]])"
      ]
     },
     "execution_count": 16,
     "metadata": {},
     "output_type": "execute_result"
    }
   ],
   "source": [
    "X= df.drop(\"Species\",axis=1)\n",
    "X= df.iloc[:,1:5].values\n",
    "X"
   ]
  },
  {
   "cell_type": "code",
   "execution_count": 17,
   "id": "e49bc552",
   "metadata": {
    "ExecuteTime": {
     "end_time": "2022-06-15T02:26:18.555758Z",
     "start_time": "2022-06-15T02:26:18.531768Z"
    }
   },
   "outputs": [
    {
     "data": {
      "text/plain": [
       "array(['setosa', 'setosa', 'setosa', 'setosa', 'setosa', 'setosa',\n",
       "       'setosa', 'setosa', 'setosa', 'setosa', 'setosa', 'setosa',\n",
       "       'setosa', 'setosa', 'setosa', 'setosa', 'setosa', 'setosa',\n",
       "       'setosa', 'setosa', 'setosa', 'setosa', 'setosa', 'setosa',\n",
       "       'setosa', 'setosa', 'setosa', 'setosa', 'setosa', 'setosa',\n",
       "       'setosa', 'setosa', 'setosa', 'setosa', 'setosa', 'setosa',\n",
       "       'setosa', 'setosa', 'setosa', 'setosa', 'setosa', 'setosa',\n",
       "       'setosa', 'setosa', 'setosa', 'setosa', 'setosa', 'setosa',\n",
       "       'setosa', 'setosa', 'versicolor', 'versicolor', 'versicolor',\n",
       "       'versicolor', 'versicolor', 'versicolor', 'versicolor',\n",
       "       'versicolor', 'versicolor', 'versicolor', 'versicolor',\n",
       "       'versicolor', 'versicolor', 'versicolor', 'versicolor',\n",
       "       'versicolor', 'versicolor', 'versicolor', 'versicolor',\n",
       "       'versicolor', 'versicolor', 'versicolor', 'versicolor',\n",
       "       'versicolor', 'versicolor', 'versicolor', 'versicolor',\n",
       "       'versicolor', 'versicolor', 'versicolor', 'versicolor',\n",
       "       'versicolor', 'versicolor', 'versicolor', 'versicolor',\n",
       "       'versicolor', 'versicolor', 'versicolor', 'versicolor',\n",
       "       'versicolor', 'versicolor', 'versicolor', 'versicolor',\n",
       "       'versicolor', 'versicolor', 'versicolor', 'versicolor',\n",
       "       'versicolor', 'versicolor', 'versicolor', 'virginica', 'virginica',\n",
       "       'virginica', 'virginica', 'virginica', 'virginica', 'virginica',\n",
       "       'virginica', 'virginica', 'virginica', 'virginica', 'virginica',\n",
       "       'virginica', 'virginica', 'virginica', 'virginica', 'virginica',\n",
       "       'virginica', 'virginica', 'virginica', 'virginica', 'virginica',\n",
       "       'virginica', 'virginica', 'virginica', 'virginica', 'virginica',\n",
       "       'virginica', 'virginica', 'virginica', 'virginica', 'virginica',\n",
       "       'virginica', 'virginica', 'virginica', 'virginica', 'virginica',\n",
       "       'virginica', 'virginica', 'virginica', 'virginica', 'virginica',\n",
       "       'virginica', 'virginica', 'virginica', 'virginica', 'virginica',\n",
       "       'virginica', 'virginica', 'virginica'], dtype=object)"
      ]
     },
     "execution_count": 17,
     "metadata": {},
     "output_type": "execute_result"
    }
   ],
   "source": [
    "y=df.iloc[:,5].values\n",
    "\n",
    "y"
   ]
  },
  {
   "cell_type": "code",
   "execution_count": 18,
   "id": "d04c06fa",
   "metadata": {
    "ExecuteTime": {
     "end_time": "2022-06-15T02:26:19.038667Z",
     "start_time": "2022-06-15T02:26:19.014696Z"
    }
   },
   "outputs": [
    {
     "name": "stdout",
     "output_type": "stream",
     "text": [
      "(150, 4)\n",
      "(150,)\n",
      "[[5.1 3.5 1.4 0.2]\n",
      " [4.9 3.  1.4 0.2]\n",
      " [4.7 3.2 1.3 0.2]\n",
      " [4.6 3.1 1.5 0.2]\n",
      " [5.  3.6 1.4 0.2]\n",
      " [5.4 3.9 1.7 0.4]\n",
      " [4.6 3.4 1.4 0.3]\n",
      " [5.  3.4 1.5 0.2]\n",
      " [4.4 2.9 1.4 0.2]\n",
      " [4.9 3.1 1.5 0.1]\n",
      " [5.4 3.7 1.5 0.2]\n",
      " [4.8 3.4 1.6 0.2]\n",
      " [4.8 3.  1.4 0.1]\n",
      " [4.3 3.  1.1 0.1]\n",
      " [5.8 4.  1.2 0.2]\n",
      " [5.7 4.4 1.5 0.4]\n",
      " [5.4 3.9 1.3 0.4]\n",
      " [5.1 3.5 1.4 0.3]\n",
      " [5.7 3.8 1.7 0.3]\n",
      " [5.1 3.8 1.5 0.3]\n",
      " [5.4 3.4 1.7 0.2]\n",
      " [5.1 3.7 1.5 0.4]\n",
      " [4.6 3.6 1.  0.2]\n",
      " [5.1 3.3 1.7 0.5]\n",
      " [4.8 3.4 1.9 0.2]\n",
      " [5.  3.  1.6 0.2]\n",
      " [5.  3.4 1.6 0.4]\n",
      " [5.2 3.5 1.5 0.2]\n",
      " [5.2 3.4 1.4 0.2]\n",
      " [4.7 3.2 1.6 0.2]\n",
      " [4.8 3.1 1.6 0.2]\n",
      " [5.4 3.4 1.5 0.4]\n",
      " [5.2 4.1 1.5 0.1]\n",
      " [5.5 4.2 1.4 0.2]\n",
      " [4.9 3.1 1.5 0.2]\n",
      " [5.  3.2 1.2 0.2]\n",
      " [5.5 3.5 1.3 0.2]\n",
      " [4.9 3.6 1.4 0.1]\n",
      " [4.4 3.  1.3 0.2]\n",
      " [5.1 3.4 1.5 0.2]\n",
      " [5.  3.5 1.3 0.3]\n",
      " [4.5 2.3 1.3 0.3]\n",
      " [4.4 3.2 1.3 0.2]\n",
      " [5.  3.5 1.6 0.6]\n",
      " [5.1 3.8 1.9 0.4]\n",
      " [4.8 3.  1.4 0.3]\n",
      " [5.1 3.8 1.6 0.2]\n",
      " [4.6 3.2 1.4 0.2]\n",
      " [5.3 3.7 1.5 0.2]\n",
      " [5.  3.3 1.4 0.2]\n",
      " [7.  3.2 4.7 1.4]\n",
      " [6.4 3.2 4.5 1.5]\n",
      " [6.9 3.1 4.9 1.5]\n",
      " [5.5 2.3 4.  1.3]\n",
      " [6.5 2.8 4.6 1.5]\n",
      " [5.7 2.8 4.5 1.3]\n",
      " [6.3 3.3 4.7 1.6]\n",
      " [4.9 2.4 3.3 1. ]\n",
      " [6.6 2.9 4.6 1.3]\n",
      " [5.2 2.7 3.9 1.4]\n",
      " [5.  2.  3.5 1. ]\n",
      " [5.9 3.  4.2 1.5]\n",
      " [6.  2.2 4.  1. ]\n",
      " [6.1 2.9 4.7 1.4]\n",
      " [5.6 2.9 3.6 1.3]\n",
      " [6.7 3.1 4.4 1.4]\n",
      " [5.6 3.  4.5 1.5]\n",
      " [5.8 2.7 4.1 1. ]\n",
      " [6.2 2.2 4.5 1.5]\n",
      " [5.6 2.5 3.9 1.1]\n",
      " [5.9 3.2 4.8 1.8]\n",
      " [6.1 2.8 4.  1.3]\n",
      " [6.3 2.5 4.9 1.5]\n",
      " [6.1 2.8 4.7 1.2]\n",
      " [6.4 2.9 4.3 1.3]\n",
      " [6.6 3.  4.4 1.4]\n",
      " [6.8 2.8 4.8 1.4]\n",
      " [6.7 3.  5.  1.7]\n",
      " [6.  2.9 4.5 1.5]\n",
      " [5.7 2.6 3.5 1. ]\n",
      " [5.5 2.4 3.8 1.1]\n",
      " [5.5 2.4 3.7 1. ]\n",
      " [5.8 2.7 3.9 1.2]\n",
      " [6.  2.7 5.1 1.6]\n",
      " [5.4 3.  4.5 1.5]\n",
      " [6.  3.4 4.5 1.6]\n",
      " [6.7 3.1 4.7 1.5]\n",
      " [6.3 2.3 4.4 1.3]\n",
      " [5.6 3.  4.1 1.3]\n",
      " [5.5 2.5 4.  1.3]\n",
      " [5.5 2.6 4.4 1.2]\n",
      " [6.1 3.  4.6 1.4]\n",
      " [5.8 2.6 4.  1.2]\n",
      " [5.  2.3 3.3 1. ]\n",
      " [5.6 2.7 4.2 1.3]\n",
      " [5.7 3.  4.2 1.2]\n",
      " [5.7 2.9 4.2 1.3]\n",
      " [6.2 2.9 4.3 1.3]\n",
      " [5.1 2.5 3.  1.1]\n",
      " [5.7 2.8 4.1 1.3]\n",
      " [6.3 3.3 6.  2.5]\n",
      " [5.8 2.7 5.1 1.9]\n",
      " [7.1 3.  5.9 2.1]\n",
      " [6.3 2.9 5.6 1.8]\n",
      " [6.5 3.  5.8 2.2]\n",
      " [7.6 3.  6.6 2.1]\n",
      " [4.9 2.5 4.5 1.7]\n",
      " [7.3 2.9 6.3 1.8]\n",
      " [6.7 2.5 5.8 1.8]\n",
      " [7.2 3.6 6.1 2.5]\n",
      " [6.5 3.2 5.1 2. ]\n",
      " [6.4 2.7 5.3 1.9]\n",
      " [6.8 3.  5.5 2.1]\n",
      " [5.7 2.5 5.  2. ]\n",
      " [5.8 2.8 5.1 2.4]\n",
      " [6.4 3.2 5.3 2.3]\n",
      " [6.5 3.  5.5 1.8]\n",
      " [7.7 3.8 6.7 2.2]\n",
      " [7.7 2.6 6.9 2.3]\n",
      " [6.  2.2 5.  1.5]\n",
      " [6.9 3.2 5.7 2.3]\n",
      " [5.6 2.8 4.9 2. ]\n",
      " [7.7 2.8 6.7 2. ]\n",
      " [6.3 2.7 4.9 1.8]\n",
      " [6.7 3.3 5.7 2.1]\n",
      " [7.2 3.2 6.  1.8]\n",
      " [6.2 2.8 4.8 1.8]\n",
      " [6.1 3.  4.9 1.8]\n",
      " [6.4 2.8 5.6 2.1]\n",
      " [7.2 3.  5.8 1.6]\n",
      " [7.4 2.8 6.1 1.9]\n",
      " [7.9 3.8 6.4 2. ]\n",
      " [6.4 2.8 5.6 2.2]\n",
      " [6.3 2.8 5.1 1.5]\n",
      " [6.1 2.6 5.6 1.4]\n",
      " [7.7 3.  6.1 2.3]\n",
      " [6.3 3.4 5.6 2.4]\n",
      " [6.4 3.1 5.5 1.8]\n",
      " [6.  3.  4.8 1.8]\n",
      " [6.9 3.1 5.4 2.1]\n",
      " [6.7 3.1 5.6 2.4]\n",
      " [6.9 3.1 5.1 2.3]\n",
      " [5.8 2.7 5.1 1.9]\n",
      " [6.8 3.2 5.9 2.3]\n",
      " [6.7 3.3 5.7 2.5]\n",
      " [6.7 3.  5.2 2.3]\n",
      " [6.3 2.5 5.  1.9]\n",
      " [6.5 3.  5.2 2. ]\n",
      " [6.2 3.4 5.4 2.3]\n",
      " [5.9 3.  5.1 1.8]]\n",
      "['setosa' 'setosa' 'setosa' 'setosa' 'setosa' 'setosa' 'setosa' 'setosa'\n",
      " 'setosa' 'setosa' 'setosa' 'setosa' 'setosa' 'setosa' 'setosa' 'setosa'\n",
      " 'setosa' 'setosa' 'setosa' 'setosa' 'setosa' 'setosa' 'setosa' 'setosa'\n",
      " 'setosa' 'setosa' 'setosa' 'setosa' 'setosa' 'setosa' 'setosa' 'setosa'\n",
      " 'setosa' 'setosa' 'setosa' 'setosa' 'setosa' 'setosa' 'setosa' 'setosa'\n",
      " 'setosa' 'setosa' 'setosa' 'setosa' 'setosa' 'setosa' 'setosa' 'setosa'\n",
      " 'setosa' 'setosa' 'versicolor' 'versicolor' 'versicolor' 'versicolor'\n",
      " 'versicolor' 'versicolor' 'versicolor' 'versicolor' 'versicolor'\n",
      " 'versicolor' 'versicolor' 'versicolor' 'versicolor' 'versicolor'\n",
      " 'versicolor' 'versicolor' 'versicolor' 'versicolor' 'versicolor'\n",
      " 'versicolor' 'versicolor' 'versicolor' 'versicolor' 'versicolor'\n",
      " 'versicolor' 'versicolor' 'versicolor' 'versicolor' 'versicolor'\n",
      " 'versicolor' 'versicolor' 'versicolor' 'versicolor' 'versicolor'\n",
      " 'versicolor' 'versicolor' 'versicolor' 'versicolor' 'versicolor'\n",
      " 'versicolor' 'versicolor' 'versicolor' 'versicolor' 'versicolor'\n",
      " 'versicolor' 'versicolor' 'versicolor' 'versicolor' 'versicolor'\n",
      " 'versicolor' 'virginica' 'virginica' 'virginica' 'virginica' 'virginica'\n",
      " 'virginica' 'virginica' 'virginica' 'virginica' 'virginica' 'virginica'\n",
      " 'virginica' 'virginica' 'virginica' 'virginica' 'virginica' 'virginica'\n",
      " 'virginica' 'virginica' 'virginica' 'virginica' 'virginica' 'virginica'\n",
      " 'virginica' 'virginica' 'virginica' 'virginica' 'virginica' 'virginica'\n",
      " 'virginica' 'virginica' 'virginica' 'virginica' 'virginica' 'virginica'\n",
      " 'virginica' 'virginica' 'virginica' 'virginica' 'virginica' 'virginica'\n",
      " 'virginica' 'virginica' 'virginica' 'virginica' 'virginica' 'virginica'\n",
      " 'virginica' 'virginica' 'virginica']\n"
     ]
    }
   ],
   "source": [
    "print(X.shape)\n",
    "print(y.shape)\n",
    "print(X)\n",
    "print(y)"
   ]
  },
  {
   "cell_type": "markdown",
   "id": "8b3b54ca",
   "metadata": {},
   "source": [
    "### Split the Data into Training and Test Sets"
   ]
  },
  {
   "cell_type": "code",
   "execution_count": 19,
   "id": "8c9d80a8",
   "metadata": {
    "ExecuteTime": {
     "end_time": "2022-06-15T02:26:19.504341Z",
     "start_time": "2022-06-15T02:26:19.488322Z"
    }
   },
   "outputs": [],
   "source": [
    "X_train,X_test,y_train,y_test=train_test_split(X,y,test_size=1/3,random_state=0)"
   ]
  },
  {
   "cell_type": "markdown",
   "id": "0e8f2e94",
   "metadata": {},
   "source": [
    "### Support Vector Machine"
   ]
  },
  {
   "cell_type": "code",
   "execution_count": 20,
   "id": "4ad8e11b",
   "metadata": {},
   "outputs": [
    {
     "name": "stdout",
     "output_type": "stream",
     "text": [
      "Accuracy Score of SVM =  0.98\n"
     ]
    }
   ],
   "source": [
    "svm= SVC()\n",
    "svm.fit(X_train,y_train)\n",
    "svm_pred= svm.predict(X_test)\n",
    "print(\"Accuracy Score of SVM = \",format(accuracy_score(y_test, svm_pred)))"
   ]
  },
  {
   "cell_type": "markdown",
   "id": "9d983a1e",
   "metadata": {},
   "source": [
    "### Random Forest Classifier"
   ]
  },
  {
   "cell_type": "code",
   "execution_count": 21,
   "id": "c858ea3a",
   "metadata": {
    "ExecuteTime": {
     "end_time": "2022-06-15T02:26:22.582596Z",
     "start_time": "2022-06-15T02:26:22.504190Z"
    }
   },
   "outputs": [
    {
     "name": "stdout",
     "output_type": "stream",
     "text": [
      "Accuracy Score of SVM =  0.96\n"
     ]
    }
   ],
   "source": [
    "rfc=RandomForestClassifier(n_estimators=100)\n",
    "rfc.fit(X_train,y_train)\n",
    "rfc_pred=rfc.predict(X_test)\n",
    "print(\"Accuracy Score of SVM = \",format(accuracy_score(y_test, rfc_pred)))"
   ]
  },
  {
   "cell_type": "markdown",
   "id": "dc24dc07",
   "metadata": {},
   "source": [
    "### Decision Tree Classifier"
   ]
  },
  {
   "cell_type": "code",
   "execution_count": 22,
   "id": "b97041ad",
   "metadata": {},
   "outputs": [
    {
     "name": "stdout",
     "output_type": "stream",
     "text": [
      "Accuracy Score of Decision Tree Classification = 0.96\n"
     ]
    }
   ],
   "source": [
    "dtree=DecisionTreeClassifier()\n",
    "dtree.fit(X_train,y_train)\n",
    "dtree_pred=dtree.predict(X_test)\n",
    "print(\"Accuracy Score of Decision Tree Classification =\",format(accuracy_score(y_test,dtree_pred)))"
   ]
  },
  {
   "cell_type": "markdown",
   "id": "a26e80ae",
   "metadata": {},
   "source": [
    "### K-Nearest Neighbour (KNN)"
   ]
  },
  {
   "cell_type": "code",
   "execution_count": 23,
   "id": "7a3421ec",
   "metadata": {},
   "outputs": [
    {
     "name": "stdout",
     "output_type": "stream",
     "text": [
      "Accuracy Score of KNN = 0.98\n"
     ]
    }
   ],
   "source": [
    "knn=KNeighborsClassifier(n_neighbors=5, metric='minkowski', p=2)  \n",
    "knn.fit(X_train,y_train)\n",
    "knn_pred= knn.predict(X_test)\n",
    "print(\"Accuracy Score of KNN =\",format(accuracy_score(y_test,knn_pred)))"
   ]
  },
  {
   "cell_type": "markdown",
   "id": "a106f8a0",
   "metadata": {},
   "source": [
    "### Saving Model - SVM"
   ]
  },
  {
   "cell_type": "code",
   "execution_count": 24,
   "id": "a9950f94",
   "metadata": {},
   "outputs": [
    {
     "data": {
      "text/plain": [
       "array(['virginica', 'versicolor', 'setosa', 'virginica', 'setosa',\n",
       "       'virginica', 'setosa', 'versicolor', 'versicolor', 'versicolor',\n",
       "       'virginica', 'versicolor', 'versicolor', 'versicolor',\n",
       "       'versicolor', 'setosa', 'versicolor', 'versicolor', 'setosa',\n",
       "       'setosa', 'virginica', 'versicolor', 'setosa', 'setosa',\n",
       "       'virginica', 'setosa', 'setosa', 'versicolor', 'versicolor',\n",
       "       'setosa', 'virginica', 'versicolor', 'setosa', 'virginica',\n",
       "       'virginica', 'versicolor', 'setosa', 'virginica', 'versicolor',\n",
       "       'versicolor', 'virginica', 'setosa', 'virginica', 'setosa',\n",
       "       'setosa', 'versicolor', 'virginica', 'virginica', 'virginica',\n",
       "       'virginica'], dtype=object)"
      ]
     },
     "execution_count": 24,
     "metadata": {},
     "output_type": "execute_result"
    }
   ],
   "source": [
    "# Firstly we will be using the dump() function to save the model using pickle\n",
    "import pickle\n",
    "saved_model = pickle.dumps(svm)\n",
    "\n",
    "# Then we will be loading that saved model\n",
    "svm_from_pickle = pickle.loads(saved_model)\n",
    "\n",
    "# lastly, after loading that model we will use this to make predictions\n",
    "svm_from_pickle.predict(X_test)"
   ]
  },
  {
   "cell_type": "code",
   "execution_count": 29,
   "id": "a6b1950b",
   "metadata": {},
   "outputs": [
    {
     "data": {
      "text/plain": [
       "array(['virginica'], dtype=object)"
      ]
     },
     "execution_count": 29,
     "metadata": {},
     "output_type": "execute_result"
    }
   ],
   "source": [
    "svm.predict([[5.8, 2.8 ,5.1 ,2.4]])"
   ]
  },
  {
   "cell_type": "code",
   "execution_count": 26,
   "id": "690f725c",
   "metadata": {},
   "outputs": [],
   "source": [
    "import pickle\n",
    "with open('model.pkl','wb') as files:\n",
    "    pickle.dump(svm,files)"
   ]
  },
  {
   "cell_type": "code",
   "execution_count": 28,
   "id": "8a0be7f3",
   "metadata": {},
   "outputs": [
    {
     "name": "stdout",
     "output_type": "stream",
     "text": [
      "[[5.8 2.8 5.1 2.4]\n",
      " [6.  2.2 4.  1. ]\n",
      " [5.5 4.2 1.4 0.2]\n",
      " [7.3 2.9 6.3 1.8]\n",
      " [5.  3.4 1.5 0.2]\n",
      " [6.3 3.3 6.  2.5]\n",
      " [5.  3.5 1.3 0.3]\n",
      " [6.7 3.1 4.7 1.5]\n",
      " [6.8 2.8 4.8 1.4]\n",
      " [6.1 2.8 4.  1.3]\n",
      " [6.1 2.6 5.6 1.4]\n",
      " [6.4 3.2 4.5 1.5]\n",
      " [6.1 2.8 4.7 1.2]\n",
      " [6.5 2.8 4.6 1.5]\n",
      " [6.1 2.9 4.7 1.4]\n",
      " [4.9 3.6 1.4 0.1]\n",
      " [6.  2.9 4.5 1.5]\n",
      " [5.5 2.6 4.4 1.2]\n",
      " [4.8 3.  1.4 0.3]\n",
      " [5.4 3.9 1.3 0.4]\n",
      " [5.6 2.8 4.9 2. ]\n",
      " [5.6 3.  4.5 1.5]\n",
      " [4.8 3.4 1.9 0.2]\n",
      " [4.4 2.9 1.4 0.2]\n",
      " [6.2 2.8 4.8 1.8]\n",
      " [4.6 3.6 1.  0.2]\n",
      " [5.1 3.8 1.9 0.4]\n",
      " [6.2 2.9 4.3 1.3]\n",
      " [5.  2.3 3.3 1. ]\n",
      " [5.  3.4 1.6 0.4]\n",
      " [6.4 3.1 5.5 1.8]\n",
      " [5.4 3.  4.5 1.5]\n",
      " [5.2 3.5 1.5 0.2]\n",
      " [6.1 3.  4.9 1.8]\n",
      " [6.4 2.8 5.6 2.2]\n",
      " [5.2 2.7 3.9 1.4]\n",
      " [5.7 3.8 1.7 0.3]\n",
      " [6.  2.7 5.1 1.6]\n",
      " [5.9 3.  4.2 1.5]\n",
      " [5.8 2.6 4.  1.2]\n",
      " [6.8 3.  5.5 2.1]\n",
      " [4.7 3.2 1.3 0.2]\n",
      " [6.9 3.1 5.1 2.3]\n",
      " [5.  3.5 1.6 0.6]\n",
      " [5.4 3.7 1.5 0.2]\n",
      " [5.  2.  3.5 1. ]\n",
      " [6.5 3.  5.5 1.8]\n",
      " [6.7 3.3 5.7 2.5]\n",
      " [6.  2.2 5.  1.5]\n",
      " [6.7 2.5 5.8 1.8]]\n",
      "['virginica' 'versicolor' 'setosa' 'virginica' 'setosa' 'virginica'\n",
      " 'setosa' 'versicolor' 'versicolor' 'versicolor' 'virginica' 'versicolor'\n",
      " 'versicolor' 'versicolor' 'versicolor' 'setosa' 'versicolor' 'versicolor'\n",
      " 'setosa' 'setosa' 'virginica' 'versicolor' 'setosa' 'setosa' 'virginica'\n",
      " 'setosa' 'setosa' 'versicolor' 'versicolor' 'setosa' 'virginica'\n",
      " 'versicolor' 'setosa' 'virginica' 'virginica' 'versicolor' 'setosa'\n",
      " 'versicolor' 'versicolor' 'versicolor' 'virginica' 'setosa' 'virginica'\n",
      " 'setosa' 'setosa' 'versicolor' 'virginica' 'virginica' 'virginica'\n",
      " 'virginica']\n"
     ]
    }
   ],
   "source": [
    "print(X_test)\n",
    "print(y_test)"
   ]
  },
  {
   "cell_type": "code",
   "execution_count": null,
   "id": "8e73c77a",
   "metadata": {},
   "outputs": [],
   "source": []
  }
 ],
 "metadata": {
  "kernelspec": {
   "display_name": "Python 3 (ipykernel)",
   "language": "python",
   "name": "python3"
  },
  "language_info": {
   "codemirror_mode": {
    "name": "ipython",
    "version": 3
   },
   "file_extension": ".py",
   "mimetype": "text/x-python",
   "name": "python",
   "nbconvert_exporter": "python",
   "pygments_lexer": "ipython3",
   "version": "3.9.12"
  }
 },
 "nbformat": 4,
 "nbformat_minor": 5
}
