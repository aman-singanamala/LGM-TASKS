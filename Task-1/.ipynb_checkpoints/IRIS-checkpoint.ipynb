{
 "cells": [
  {
   "cell_type": "code",
   "execution_count": 4,
   "id": "c9b763ec",
   "metadata": {
    "ExecuteTime": {
     "end_time": "2022-06-15T01:54:22.187426Z",
     "start_time": "2022-06-15T01:54:22.172325Z"
    }
   },
   "outputs": [
    {
     "ename": "AttributeError",
     "evalue": "module 'numpy.random' has no attribute 'Generator'",
     "output_type": "error",
     "traceback": [
      "\u001b[0;31m---------------------------------------------------------------------------\u001b[0m",
      "\u001b[0;31mAttributeError\u001b[0m                            Traceback (most recent call last)",
      "Input \u001b[0;32mIn [4]\u001b[0m, in \u001b[0;36m<cell line: 1>\u001b[0;34m()\u001b[0m\n\u001b[0;32m----> 1\u001b[0m \u001b[38;5;28;01mimport\u001b[39;00m \u001b[38;5;21;01mpandas\u001b[39;00m \u001b[38;5;28;01mas\u001b[39;00m \u001b[38;5;21;01mpd\u001b[39;00m\n\u001b[1;32m      2\u001b[0m \u001b[38;5;28;01mimport\u001b[39;00m \u001b[38;5;21;01mmatplotlib\u001b[39;00m\u001b[38;5;21;01m.\u001b[39;00m\u001b[38;5;21;01mpyplot\u001b[39;00m \u001b[38;5;28;01mas\u001b[39;00m \u001b[38;5;21;01mplt\u001b[39;00m\n\u001b[1;32m      3\u001b[0m \u001b[38;5;28;01mimport\u001b[39;00m \u001b[38;5;21;01mseaborn\u001b[39;00m \u001b[38;5;28;01mas\u001b[39;00m \u001b[38;5;21;01msns\u001b[39;00m\n",
      "File \u001b[0;32m~/anaconda3/envs/env/lib/python3.9/site-packages/pandas/__init__.py:22\u001b[0m, in \u001b[0;36m<module>\u001b[0;34m\u001b[0m\n\u001b[1;32m     19\u001b[0m \u001b[38;5;28;01mdel\u001b[39;00m hard_dependencies, dependency, missing_dependencies\n\u001b[1;32m     21\u001b[0m \u001b[38;5;66;03m# numpy compat\u001b[39;00m\n\u001b[0;32m---> 22\u001b[0m \u001b[38;5;28;01mfrom\u001b[39;00m \u001b[38;5;21;01mpandas\u001b[39;00m\u001b[38;5;21;01m.\u001b[39;00m\u001b[38;5;21;01mcompat\u001b[39;00m \u001b[38;5;28;01mimport\u001b[39;00m is_numpy_dev \u001b[38;5;28;01mas\u001b[39;00m _is_numpy_dev\n\u001b[1;32m     24\u001b[0m \u001b[38;5;28;01mtry\u001b[39;00m:\n\u001b[1;32m     25\u001b[0m     \u001b[38;5;28;01mfrom\u001b[39;00m \u001b[38;5;21;01mpandas\u001b[39;00m\u001b[38;5;21;01m.\u001b[39;00m\u001b[38;5;21;01m_libs\u001b[39;00m \u001b[38;5;28;01mimport\u001b[39;00m hashtable \u001b[38;5;28;01mas\u001b[39;00m _hashtable, lib \u001b[38;5;28;01mas\u001b[39;00m _lib, tslib \u001b[38;5;28;01mas\u001b[39;00m _tslib\n",
      "File \u001b[0;32m~/anaconda3/envs/env/lib/python3.9/site-packages/pandas/compat/__init__.py:14\u001b[0m, in \u001b[0;36m<module>\u001b[0;34m\u001b[0m\n\u001b[1;32m     11\u001b[0m \u001b[38;5;28;01mimport\u001b[39;00m \u001b[38;5;21;01mplatform\u001b[39;00m\n\u001b[1;32m     12\u001b[0m \u001b[38;5;28;01mimport\u001b[39;00m \u001b[38;5;21;01msys\u001b[39;00m\n\u001b[0;32m---> 14\u001b[0m \u001b[38;5;28;01mfrom\u001b[39;00m \u001b[38;5;21;01mpandas\u001b[39;00m\u001b[38;5;21;01m.\u001b[39;00m\u001b[38;5;21;01m_typing\u001b[39;00m \u001b[38;5;28;01mimport\u001b[39;00m F\n\u001b[1;32m     15\u001b[0m \u001b[38;5;28;01mfrom\u001b[39;00m \u001b[38;5;21;01mpandas\u001b[39;00m\u001b[38;5;21;01m.\u001b[39;00m\u001b[38;5;21;01mcompat\u001b[39;00m\u001b[38;5;21;01m.\u001b[39;00m\u001b[38;5;21;01mnumpy\u001b[39;00m \u001b[38;5;28;01mimport\u001b[39;00m (\n\u001b[1;32m     16\u001b[0m     is_numpy_dev,\n\u001b[1;32m     17\u001b[0m     np_version_under1p19,\n\u001b[1;32m     18\u001b[0m     np_version_under1p20,\n\u001b[1;32m     19\u001b[0m )\n\u001b[1;32m     20\u001b[0m \u001b[38;5;28;01mfrom\u001b[39;00m \u001b[38;5;21;01mpandas\u001b[39;00m\u001b[38;5;21;01m.\u001b[39;00m\u001b[38;5;21;01mcompat\u001b[39;00m\u001b[38;5;21;01m.\u001b[39;00m\u001b[38;5;21;01mpyarrow\u001b[39;00m \u001b[38;5;28;01mimport\u001b[39;00m (\n\u001b[1;32m     21\u001b[0m     pa_version_under1p01,\n\u001b[1;32m     22\u001b[0m     pa_version_under2p0,\n\u001b[1;32m     23\u001b[0m     pa_version_under3p0,\n\u001b[1;32m     24\u001b[0m     pa_version_under4p0,\n\u001b[1;32m     25\u001b[0m )\n",
      "File \u001b[0;32m~/anaconda3/envs/env/lib/python3.9/site-packages/pandas/_typing.py:119\u001b[0m, in \u001b[0;36m<module>\u001b[0;34m\u001b[0m\n\u001b[1;32m    113\u001b[0m Frequency \u001b[38;5;241m=\u001b[39m Union[\u001b[38;5;28mstr\u001b[39m, \u001b[38;5;124m\"\u001b[39m\u001b[38;5;124mDateOffset\u001b[39m\u001b[38;5;124m\"\u001b[39m]\n\u001b[1;32m    114\u001b[0m Axes \u001b[38;5;241m=\u001b[39m Collection[Any]\n\u001b[1;32m    116\u001b[0m RandomState \u001b[38;5;241m=\u001b[39m Union[\n\u001b[1;32m    117\u001b[0m     \u001b[38;5;28mint\u001b[39m,\n\u001b[1;32m    118\u001b[0m     ArrayLike,\n\u001b[0;32m--> 119\u001b[0m     \u001b[43mnp\u001b[49m\u001b[38;5;241;43m.\u001b[39;49m\u001b[43mrandom\u001b[49m\u001b[38;5;241;43m.\u001b[39;49m\u001b[43mGenerator\u001b[49m,\n\u001b[1;32m    120\u001b[0m     np\u001b[38;5;241m.\u001b[39mrandom\u001b[38;5;241m.\u001b[39mBitGenerator,\n\u001b[1;32m    121\u001b[0m     np\u001b[38;5;241m.\u001b[39mrandom\u001b[38;5;241m.\u001b[39mRandomState,\n\u001b[1;32m    122\u001b[0m ]\n\u001b[1;32m    124\u001b[0m \u001b[38;5;66;03m# dtypes\u001b[39;00m\n\u001b[1;32m    125\u001b[0m NpDtype \u001b[38;5;241m=\u001b[39m Union[\u001b[38;5;28mstr\u001b[39m, np\u001b[38;5;241m.\u001b[39mdtype, type_t[Union[\u001b[38;5;28mstr\u001b[39m, \u001b[38;5;28mfloat\u001b[39m, \u001b[38;5;28mint\u001b[39m, \u001b[38;5;28mcomplex\u001b[39m, \u001b[38;5;28mbool\u001b[39m, \u001b[38;5;28mobject\u001b[39m]]]\n",
      "\u001b[0;31mAttributeError\u001b[0m: module 'numpy.random' has no attribute 'Generator'"
     ]
    }
   ],
   "source": [
    "\n",
    "import pandas as pd\n",
    "import matplotlib.pyplot as plt\n",
    "import seaborn as sns"
   ]
  },
  {
   "cell_type": "code",
   "execution_count": 5,
   "id": "f0233a73",
   "metadata": {
    "ExecuteTime": {
     "end_time": "2022-06-15T01:54:49.047287Z",
     "start_time": "2022-06-15T01:54:48.992758Z"
    }
   },
   "outputs": [
    {
     "ename": "NameError",
     "evalue": "name 'pd' is not defined",
     "output_type": "error",
     "traceback": [
      "\u001b[0;31m---------------------------------------------------------------------------\u001b[0m",
      "\u001b[0;31mNameError\u001b[0m                                 Traceback (most recent call last)",
      "Input \u001b[0;32mIn [5]\u001b[0m, in \u001b[0;36m<cell line: 1>\u001b[0;34m()\u001b[0m\n\u001b[0;32m----> 1\u001b[0m df\u001b[38;5;241m=\u001b[39m \u001b[43mpd\u001b[49m\u001b[38;5;241m.\u001b[39mread_csv(\u001b[38;5;124m'\u001b[39m\u001b[38;5;124miris.csv\u001b[39m\u001b[38;5;124m'\u001b[39m);\n\u001b[1;32m      2\u001b[0m df\n",
      "\u001b[0;31mNameError\u001b[0m: name 'pd' is not defined"
     ]
    }
   ],
   "source": [
    "df= pd.read_csv('iris.csv');\n",
    "df"
   ]
  },
  {
   "cell_type": "code",
   "execution_count": null,
   "id": "cfac5c35",
   "metadata": {
    "ExecuteTime": {
     "end_time": "2022-06-15T01:55:13.248619Z",
     "start_time": "2022-06-15T01:55:13.224660Z"
    }
   },
   "outputs": [],
   "source": [
    "df.values"
   ]
  },
  {
   "cell_type": "code",
   "execution_count": null,
   "id": "e0386d04",
   "metadata": {
    "ExecuteTime": {
     "end_time": "2022-06-15T02:00:20.785162Z",
     "start_time": "2022-06-15T02:00:20.763324Z"
    }
   },
   "outputs": [],
   "source": [
    "print(df.columns)"
   ]
  },
  {
   "cell_type": "code",
   "execution_count": null,
   "id": "dbd6682d",
   "metadata": {
    "ExecuteTime": {
     "end_time": "2022-06-15T02:01:01.532859Z",
     "start_time": "2022-06-15T02:01:01.488883Z"
    }
   },
   "outputs": [],
   "source": [
    "print(df.describe())"
   ]
  },
  {
   "cell_type": "code",
   "execution_count": null,
   "id": "798232bf",
   "metadata": {
    "ExecuteTime": {
     "end_time": "2022-06-15T02:01:20.415618Z",
     "start_time": "2022-06-15T02:01:20.377633Z"
    }
   },
   "outputs": [],
   "source": [
    "print(df.info())"
   ]
  },
  {
   "cell_type": "code",
   "execution_count": null,
   "id": "6bc7c768",
   "metadata": {
    "ExecuteTime": {
     "end_time": "2022-06-15T02:01:40.655428Z",
     "start_time": "2022-06-15T02:01:40.631879Z"
    }
   },
   "outputs": [],
   "source": [
    "df.isnull().head()"
   ]
  },
  {
   "cell_type": "code",
   "execution_count": null,
   "id": "276f3e9d",
   "metadata": {
    "ExecuteTime": {
     "end_time": "2022-06-15T02:01:52.641788Z",
     "start_time": "2022-06-15T02:01:52.625859Z"
    }
   },
   "outputs": [],
   "source": [
    "df.isnull().sum()"
   ]
  },
  {
   "cell_type": "code",
   "execution_count": null,
   "id": "5ff317f8",
   "metadata": {
    "ExecuteTime": {
     "end_time": "2022-06-15T02:02:00.892613Z",
     "start_time": "2022-06-15T02:02:00.875934Z"
    }
   },
   "outputs": [],
   "source": [
    "df_copy=df.copy(deep=True)"
   ]
  },
  {
   "cell_type": "code",
   "execution_count": null,
   "id": "7a012708",
   "metadata": {
    "ExecuteTime": {
     "end_time": "2022-06-15T02:02:06.023586Z",
     "start_time": "2022-06-15T02:02:05.985123Z"
    }
   },
   "outputs": [],
   "source": [
    "df_copy"
   ]
  },
  {
   "cell_type": "code",
   "execution_count": null,
   "id": "024a3ea7",
   "metadata": {
    "ExecuteTime": {
     "end_time": "2022-06-15T02:03:28.027114Z",
     "start_time": "2022-06-15T02:03:27.997201Z"
    }
   },
   "outputs": [],
   "source": [
    "df_copy[['Sepal.Length','Sepal.Width','Petal.Length','Petal.Width']] =df_copy[['Sepal.Length','Sepal.Width','Petal.Length','Petal.Width']].replace(0,np.NaN)\n",
    "df_copy.isnull().sum()"
   ]
  },
  {
   "cell_type": "code",
   "execution_count": null,
   "id": "e5f894b3",
   "metadata": {
    "ExecuteTime": {
     "end_time": "2022-06-15T02:03:41.411012Z",
     "start_time": "2022-06-15T02:03:39.901334Z"
    }
   },
   "outputs": [],
   "source": [
    "ogisticREgressionplt.style.use(\"seaborn\")\n",
    "p=df.hist(figsize=(20,20))"
   ]
  },
  {
   "cell_type": "code",
   "execution_count": null,
   "id": "24b05f4a",
   "metadata": {
    "ExecuteTime": {
     "end_time": "2022-06-15T02:05:29.847552Z",
     "start_time": "2022-06-15T02:05:29.831510Z"
    }
   },
   "outputs": [],
   "source": [
    "df_copy['Sepal.Length'].fillna(df_copy['Sepal.Length'].mean(),inplace=True)\n",
    "df_copy['Sepal.Width'].fillna(df_copy['Sepal.Width'].mean(),inplace=True)\n",
    "df_copy['Petal.Length'].fillna(df_copy['Petal.Length'].mean(),inplace=True)\n",
    "df_copy['Petal.Width'].fillna(df_copy['Petal.Width'].mean(),inplace=True)\n"
   ]
  },
  {
   "cell_type": "code",
   "execution_count": null,
   "id": "7aaeecf6",
   "metadata": {
    "ExecuteTime": {
     "end_time": "2022-06-15T02:05:40.985493Z",
     "start_time": "2022-06-15T02:05:39.475344Z"
    }
   },
   "outputs": [],
   "source": [
    "p=df_copy.hist(figsize=(20,20))"
   ]
  },
  {
   "cell_type": "code",
   "execution_count": null,
   "id": "70ab16c3",
   "metadata": {
    "ExecuteTime": {
     "end_time": "2022-06-15T02:11:34.383913Z",
     "start_time": "2022-06-15T02:11:34.374466Z"
    }
   },
   "outputs": [],
   "source": [
    "y= df.Species\n",
    "print(y.unique())"
   ]
  },
  {
   "cell_type": "code",
   "execution_count": null,
   "id": "fbf97de0",
   "metadata": {
    "ExecuteTime": {
     "end_time": "2022-06-15T02:26:10.182535Z",
     "start_time": "2022-06-15T02:26:10.141198Z"
    }
   },
   "outputs": [],
   "source": [
    "X= df.drop(\"Species\",axis=1)\n",
    "X= df.iloc[:,1:5].values\n",
    "X"
   ]
  },
  {
   "cell_type": "code",
   "execution_count": null,
   "id": "e49bc552",
   "metadata": {
    "ExecuteTime": {
     "end_time": "2022-06-15T02:26:18.555758Z",
     "start_time": "2022-06-15T02:26:18.531768Z"
    }
   },
   "outputs": [],
   "source": [
    "y=df.iloc[:,5].values\n",
    "y"
   ]
  },
  {
   "cell_type": "code",
   "execution_count": null,
   "id": "d04c06fa",
   "metadata": {
    "ExecuteTime": {
     "end_time": "2022-06-15T02:26:19.038667Z",
     "start_time": "2022-06-15T02:26:19.014696Z"
    }
   },
   "outputs": [],
   "source": [
    "print(X.shape)\n",
    "print(y.shape)\n",
    "print(X)\n",
    "print(y)"
   ]
  },
  {
   "cell_type": "code",
   "execution_count": null,
   "id": "8c9d80a8",
   "metadata": {
    "ExecuteTime": {
     "end_time": "2022-06-15T02:26:19.504341Z",
     "start_time": "2022-06-15T02:26:19.488322Z"
    }
   },
   "outputs": [],
   "source": [
    "from sklearn.model_selection import train_test_split\n",
    "X_train,X_test,y_train,y_test=train_test_split(X,y,test_size=0.20,random_state=0)"
   ]
  },
  {
   "cell_type": "code",
   "execution_count": null,
   "id": "408b038d",
   "metadata": {
    "ExecuteTime": {
     "end_time": "2022-06-15T02:26:21.173760Z",
     "start_time": "2022-06-15T02:26:20.729925Z"
    }
   },
   "outputs": [],
   "source": [
    "from sklearn.ensemble import RandomForestClassifier\n",
    "RFC=RandomForestClassifier(n_estimators=200)\n",
    "RFC.fit(X_train,y_train)"
   ]
  },
  {
   "cell_type": "code",
   "execution_count": null,
   "id": "6da2ae46",
   "metadata": {},
   "outputs": [],
   "source": [
    "RFC_train= RFC.predict(X_train)\n",
    "from sklearn import metrics\n",
    "\n",
    "print(\"Accuracy Score = \",format(metrics.accuracy_score(y_train,RFC_train)))\n",
    "from sklearn import metrics \n",
    "predictions= RFC.predict(X_test)\n",
    "print(\"Accuracy Score = \",format(metrics.accuracy_score(y_test,predictions)))"
   ]
  },
  {
   "cell_type": "code",
   "execution_count": null,
   "id": "fa49be09",
   "metadata": {},
   "outputs": [],
   "source": [
    "from sklearn.linear_model import LogisticRegression\n",
    "LR= LogisticRegression(random_state=42)\n",
    "LR.fit(X_train,y_train)\n",
    "from sklearn import metrics\n",
    "LR_pred=LR.predict(X_test)\n",
    "print(\"ACcuracy SCore = \",format(metrics.accuracy_score(y_test,LR_pred)))"
   ]
  },
  {
   "cell_type": "code",
   "execution_count": null,
   "id": "c858ea3a",
   "metadata": {
    "ExecuteTime": {
     "end_time": "2022-06-15T02:26:22.582596Z",
     "start_time": "2022-06-15T02:26:22.504190Z"
    }
   },
   "outputs": [],
   "source": [
    "x_new=np.array([[6.3,2.5,5.0,2.0]])\n",
    "prediction=RFC.predict(x_new)\n",
    "print(\"Prediction: {}\".format(prediction))"
   ]
  },
  {
   "cell_type": "code",
   "execution_count": null,
   "id": "1267d6c3",
   "metadata": {},
   "outputs": [],
   "source": []
  }
 ],
 "metadata": {
  "kernelspec": {
   "display_name": "Python 3 (ipykernel)",
   "language": "python",
   "name": "python3"
  },
  "language_info": {
   "codemirror_mode": {
    "name": "ipython",
    "version": 3
   },
   "file_extension": ".py",
   "mimetype": "text/x-python",
   "name": "python",
   "nbconvert_exporter": "python",
   "pygments_lexer": "ipython3",
   "version": "3.9.12"
  }
 },
 "nbformat": 4,
 "nbformat_minor": 5
}
